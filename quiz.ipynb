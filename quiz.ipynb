{
 "cells": [
  {
   "cell_type": "code",
   "execution_count": 2,
   "metadata": {
    "tags": [
     "interactive"
    ]
   },
   "outputs": [
    {
     "data": {
      "application/vnd.jupyter.widget-view+json": {
       "model_id": "15f44cdb253b4dd581d08ece48af7536",
       "version_major": 2,
       "version_minor": 0
      },
      "text/plain": [
       "interactive(children=(IntSlider(value=10, description='x', max=30, min=-10), Output()), _dom_classes=('widget-…"
      ]
     },
     "metadata": {},
     "output_type": "display_data"
    }
   ],
   "source": [
    "\n",
    "\n",
    "from __future__ import print_function\n",
    "from ipywidgets import interact, interactive, fixed, interact_manual\n",
    "\n",
    "def square(x):\n",
    "    return x * x\n",
    "\n",
    "interact(square, x=10);\n",
    "\n",
    "\n",
    "\n",
    "# from ipywidgets import RadioButtons, Text, Select, Dropdown, Label, jslink, Combobox, Output, HTML, VBox\n",
    "# from ipywidgets.widgets.widget import Widget, register, widget_serialization\n",
    "# from ipywidgets.widgets.widget_core import CoreWidget\n",
    "# from IPython.display import  display, clear_output\n",
    "\n",
    "# from traitlets import Unicode, Tuple, Instance, TraitError\n",
    "\n",
    "# # mcg is a list of lists \n",
    "# # each list consists of a string (the stem) & a list of distractor tuples (distractor string and response string)\n",
    "# mcq=[\n",
    "# ['The amount of gas exhaled after a maximal inpiration followed by a maximal expiration is the:', [('choose',''),('IC', 'Try again...'),('RV','Try again...'),('VC','Correct!'), ('TV', 'Try again...')]],\n",
    "# ['The amount of gas in the lungs after a maximal inspiration is the:',[('choose',''),('IC','Try again...'),('IRV','Try again...'),('TLC','Correct!')]],\n",
    "# ['Where does gas exchange occur?',[('choose',''),('pulmonary artery','Try again...'),('bronchioles','Try again...'),('alveoli','Correct!'), ('pleura', 'Try again...')]],\n",
    "# ['The pleura that surrounds the lungs consists of two layers, the ________.',[('choose',''),('visceral & parietal pleurae','Correct!'),('mediastinal & parietal pleurae','Try again'),('visceral & mediastinal pleurae','Try again'),('none of the above','Try again')]],    \n",
    "# ['finished',[('no option','')]]    \n",
    "# ]\n",
    "\n",
    "\n",
    "\n",
    "\n",
    "# i=0\n",
    "# stem=mcq[i][0]\n",
    "# distractors=mcq[i][1]\n",
    "\n",
    "\n",
    "# def f(stem,distractors):\n",
    "#     display(stem,distractors)\n",
    "#     return stem,distractors\n",
    "\n",
    "# w=interactive(f, stem=stem, distractors=distractors);\n",
    "# display(w)\n",
    "\n",
    "\n",
    "\n",
    "\n",
    "# i=0\n",
    "# while i < len(mcq)-1:  # from the nested list of mcq items\n",
    "#     stem=mcq[i][0]\n",
    "#     distractors=mcq[i][1]\n",
    "#     i += 1       # controls the while loop     \n",
    "#     w=interactive(f, stem=stem, distractors=distractors);\n",
    "#     display(w)\n",
    "\n",
    "\n"
   ]
  },
  {
   "cell_type": "code",
   "execution_count": null,
   "metadata": {},
   "outputs": [],
   "source": []
  }
 ],
 "metadata": {
  "celltoolbar": "Tags",
  "kernelspec": {
   "display_name": "Python 3",
   "language": "python",
   "name": "python3"
  },
  "language_info": {
   "codemirror_mode": {
    "name": "ipython",
    "version": 3
   },
   "file_extension": ".py",
   "mimetype": "text/x-python",
   "name": "python",
   "nbconvert_exporter": "python",
   "pygments_lexer": "ipython3",
   "version": "3.7.6"
  }
 },
 "nbformat": 4,
 "nbformat_minor": 2
}
